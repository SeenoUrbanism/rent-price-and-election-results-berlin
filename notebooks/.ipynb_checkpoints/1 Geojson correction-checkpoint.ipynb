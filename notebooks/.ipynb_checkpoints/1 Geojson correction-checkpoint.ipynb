{
 "cells": [
  {
   "cell_type": "code",
   "execution_count": 1,
   "id": "deca0bab-47b5-4140-a6e8-7976ce840ee2",
   "metadata": {},
   "outputs": [],
   "source": [
    "import pandas as pd\n",
    "import numpy as np\n",
    "import matplotlib.pyplot as plt\n",
    "import seaborn as sns\n",
    "import yaml\n"
   ]
  },
  {
   "cell_type": "code",
   "execution_count": 2,
   "id": "625e9807-9bb9-4518-9a8b-d280afc033d9",
   "metadata": {},
   "outputs": [
    {
     "name": "stdout",
     "output_type": "stream",
     "text": [
      "                       gml_id               Gemeinde_name Gemeinde_schluessel  \\\n",
      "0  s_wfs_alkis_bezirk.F176__1               Reinickendorf                 012   \n",
      "1  s_wfs_alkis_bezirk.F176__2  Charlottenburg-Wilmersdorf                 004   \n",
      "2  s_wfs_alkis_bezirk.F176__3           Treptow-KÃ¶penick                 009   \n",
      "3  s_wfs_alkis_bezirk.F176__4                      Pankow                 003   \n",
      "4  s_wfs_alkis_bezirk.F176__5                   NeukÃ¶lln                 008   \n",
      "\n",
      "  Land_name Land_schluessel Schluessel_gesamt  \\\n",
      "0    Berlin              11          11000012   \n",
      "1    Berlin              11          11000004   \n",
      "2    Berlin              11          11000009   \n",
      "3    Berlin              11          11000003   \n",
      "4    Berlin              11          11000008   \n",
      "\n",
      "                                            geometry  \n",
      "0  MULTIPOLYGON (((13.32074 52.6266, 13.32045 52....  \n",
      "1  MULTIPOLYGON (((13.32111 52.52446, 13.32103 52...  \n",
      "2  MULTIPOLYGON (((13.57925 52.39083, 13.57958 52...  \n",
      "3  MULTIPOLYGON (((13.50481 52.6196, 13.50467 52....  \n",
      "4  MULTIPOLYGON (((13.45832 52.48569, 13.45823 52...  \n",
      "Index(['gml_id', 'Gemeinde_name', 'Gemeinde_schluessel', 'Land_name',\n",
      "       'Land_schluessel', 'Schluessel_gesamt', 'geometry'],\n",
      "      dtype='object')\n"
     ]
    },
    {
     "name": "stderr",
     "output_type": "stream",
     "text": [
      "C:\\Users\\Sina A.Y\\documents\\ironhack\\rent-price-and-election-results-berlin\\.venv\\Lib\\site-packages\\pyogrio\\raw.py:198: RuntimeWarning: driver GeoJSON does not support open option SEP\n",
      "  return ogr_read(\n"
     ]
    }
   ],
   "source": [
    "import geopandas as gpd\n",
    "\n",
    "gdf = gpd.read_file(\"../data/clean/bezirksgrenzen.geojson\", encoding=\"utf-8\", sep=';')\n",
    "\n",
    "# Quick check\n",
    "print(gdf.head())\n",
    "print(gdf.columns)\n"
   ]
  },
  {
   "cell_type": "code",
   "execution_count": 3,
   "id": "616161d0-a1b3-4490-adac-092c21832365",
   "metadata": {},
   "outputs": [
    {
     "name": "stdout",
     "output_type": "stream",
     "text": [
      "                Gemeinde_name          Gemeinde_name_utf8  \\\n",
      "0               Reinickendorf               Reinickendorf   \n",
      "1  Charlottenburg-Wilmersdorf  Charlottenburg-Wilmersdorf   \n",
      "2           Treptow-KÃ¶penick            Treptow-Köpenick   \n",
      "3                      Pankow                      Pankow   \n",
      "4                   NeukÃ¶lln                    Neukölln   \n",
      "5                 Lichtenberg                 Lichtenberg   \n",
      "6         Marzahn-Hellersdorf         Marzahn-Hellersdorf   \n",
      "7                     Spandau                     Spandau   \n",
      "8         Steglitz-Zehlendorf         Steglitz-Zehlendorf   \n",
      "9                       Mitte                       Mitte   \n",
      "\n",
      "          Gemeinde_name_ascii  \n",
      "0               Reinickendorf  \n",
      "1  Charlottenburg-Wilmersdorf  \n",
      "2           Treptow-Koepenick  \n",
      "3                      Pankow  \n",
      "4                   Neukoelln  \n",
      "5                 Lichtenberg  \n",
      "6         Marzahn-Hellersdorf  \n",
      "7                     Spandau  \n",
      "8         Steglitz-Zehlendorf  \n",
      "9                       Mitte  \n"
     ]
    }
   ],
   "source": [
    "# 1) Fix the garbled sequences ONLY in this column\n",
    "col = \"Gemeinde_name\"\n",
    "\n",
    "bad2good = {\n",
    "    \"Ã¤\": \"ä\", \"Ã¶\": \"ö\", \"Ã¼\": \"ü\", \"ÃŸ\": \"ß\",\n",
    "    \"Ã„\": \"Ä\", \"Ã–\": \"Ö\", \"Ãœ\": \"Ü\"\n",
    "}\n",
    "\n",
    "s = gdf[col].astype(str)\n",
    "for bad, good in bad2good.items():\n",
    "    s = s.str.replace(bad, good, regex=False)\n",
    "\n",
    "gdf[col + \"_utf8\"] = s  # e.g., 'Treptow-KÃ¶penick' -> 'Treptow-Köpenick'\n",
    "\n",
    "# 2) (Optional) also create a join-safe ASCII version from the fixed text\n",
    "trans = str.maketrans({\n",
    "    \"ä\": \"ae\", \"ö\": \"oe\", \"ü\": \"ue\", \"ß\": \"ss\",\n",
    "    \"Ä\": \"Ae\", \"Ö\": \"Oe\", \"Ü\": \"Ue\"\n",
    "})\n",
    "gdf[col + \"_ascii\"] = gdf[col + \"_utf8\"].apply(lambda x: x.translate(trans))\n",
    "\n",
    "# 3) Quick check\n",
    "print(gdf[[col, col + \"_utf8\", col + \"_ascii\"]].head(10))\n"
   ]
  },
  {
   "cell_type": "code",
   "execution_count": 8,
   "id": "5f4b7946-aa9f-44f7-bf5c-c40b8035cb14",
   "metadata": {},
   "outputs": [],
   "source": [
    "gdf.to_file(\"../data/clean/bezirksgrenzen_fixed.geojson\", driver=\"GeoJSON\", encoding=\"utf-8\")\n"
   ]
  },
  {
   "cell_type": "code",
   "execution_count": null,
   "id": "8e0db0c3-609a-458e-9cae-962f5c55f5a2",
   "metadata": {},
   "outputs": [],
   "source": [
    "data/clean/bezirksgrenzen.geojson"
   ]
  }
 ],
 "metadata": {
  "kernelspec": {
   "display_name": "venv",
   "language": "python",
   "name": "venv"
  },
  "language_info": {
   "codemirror_mode": {
    "name": "ipython",
    "version": 3
   },
   "file_extension": ".py",
   "mimetype": "text/x-python",
   "name": "python",
   "nbconvert_exporter": "python",
   "pygments_lexer": "ipython3",
   "version": "3.13.5"
  }
 },
 "nbformat": 4,
 "nbformat_minor": 5
}
