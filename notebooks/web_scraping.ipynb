{
 "cells": [
  {
   "cell_type": "code",
   "execution_count": 1,
   "id": "5187b6eb-478f-46fc-812d-a9f770fbe259",
   "metadata": {},
   "outputs": [],
   "source": [
    "import pandas as pd\n",
    "from bs4 import BeautifulSoup\n",
    "import requests"
   ]
  },
  {
   "cell_type": "code",
   "execution_count": 5,
   "id": "a9d22e4a-c365-4d7f-ac65-0787b736d708",
   "metadata": {},
   "outputs": [
    {
     "data": {
      "text/plain": [
       "401"
      ]
     },
     "execution_count": 5,
     "metadata": {},
     "output_type": "execute_result"
    }
   ],
   "source": [
    "url = \"https://www.immobilienscout24.de/immobilienpreise/berlin/berlin/mietspiegel?mapCenter=52.507023%2C13.424545%2C13.091951738445271\"\n",
    "response = requests.get(url)\n",
    "response.status_code"
   ]
  },
  {
   "cell_type": "code",
   "execution_count": 4,
   "id": "32c933eb-6cd1-445b-8c44-a0e66e5748c9",
   "metadata": {},
   "outputs": [
    {
     "name": "stdout",
     "output_type": "stream",
     "text": [
      "Empty DataFrame\n",
      "Columns: [bezirk, rent_per_m2]\n",
      "Index: []\n"
     ]
    }
   ],
   "source": [
    "from selenium import webdriver\n",
    "from selenium.webdriver.chrome.service import Service\n",
    "from selenium.webdriver.chrome.options import Options\n",
    "from selenium.webdriver.common.by import By\n",
    "from webdriver_manager.chrome import ChromeDriverManager\n",
    "import pandas as pd\n",
    "import time\n",
    "\n",
    "# Setup headless browser\n",
    "options = Options()\n",
    "options.add_argument(\"--headless\")\n",
    "options.add_argument(\"--disable-gpu\")\n",
    "driver = webdriver.Chrome(service=Service(ChromeDriverManager().install()), options=options)\n",
    "\n",
    "# Open page\n",
    "url = \"https://www.immobilienscout24.de/immobilienpreise/berlin/berlin/mietspiegel\"\n",
    "driver.get(url)\n",
    "time.sleep(5)  # wait for JS to load\n",
    "\n",
    "# Get all district names and prices by their data-testid\n",
    "names = [el.text for el in driver.find_elements(By.CSS_SELECTOR, '[data-testid=\"name-cell\"]')]\n",
    "prices = [el.text for el in driver.find_elements(By.CSS_SELECTOR, '[data-testid=\"price-cell\"]')]\n",
    "\n",
    "driver.quit()\n",
    "\n",
    "# Combine into DataFrame\n",
    "df_rents = pd.DataFrame({'bezirk': names, 'rent_per_m2': prices})\n",
    "print(df_rents)\n"
   ]
  },
  {
   "cell_type": "code",
   "execution_count": 5,
   "id": "17ea617d-9d1a-40fc-a710-a46a0066ef6f",
   "metadata": {},
   "outputs": [
    {
     "data": {
      "text/html": [
       "<div>\n",
       "<style scoped>\n",
       "    .dataframe tbody tr th:only-of-type {\n",
       "        vertical-align: middle;\n",
       "    }\n",
       "\n",
       "    .dataframe tbody tr th {\n",
       "        vertical-align: top;\n",
       "    }\n",
       "\n",
       "    .dataframe thead th {\n",
       "        text-align: right;\n",
       "    }\n",
       "</style>\n",
       "<table border=\"1\" class=\"dataframe\">\n",
       "  <thead>\n",
       "    <tr style=\"text-align: right;\">\n",
       "      <th></th>\n",
       "      <th>bezirk</th>\n",
       "      <th>rent_per_m2</th>\n",
       "    </tr>\n",
       "  </thead>\n",
       "  <tbody>\n",
       "  </tbody>\n",
       "</table>\n",
       "</div>"
      ],
      "text/plain": [
       "Empty DataFrame\n",
       "Columns: [bezirk, rent_per_m2]\n",
       "Index: []"
      ]
     },
     "execution_count": 5,
     "metadata": {},
     "output_type": "execute_result"
    }
   ],
   "source": [
    "df_rents\n"
   ]
  },
  {
   "cell_type": "code",
   "execution_count": 30,
   "id": "a01ee94e-f44d-4058-96ea-469f3738f3ed",
   "metadata": {},
   "outputs": [
    {
     "name": "stdout",
     "output_type": "stream",
     "text": [
      "[]\n"
     ]
    }
   ],
   "source": [
    "import requests\n",
    "from bs4 import BeautifulSoup\n",
    "import pandas as pd\n",
    "\n",
    "url = \"https://www.wohnungsboerse.net/mietspiegel-Berlin/1883\"\n",
    "headers = {\"User-Agent\": \"Mozilla/5.0\"}\n",
    "r = requests.get(url, headers=headers)\n",
    "soup = BeautifulSoup(r.text, \"html.parser\")\n",
    "\n",
    "# find the first table with Mietspiegel data\n",
    "#table = soup.find(\"SearchPriceTable\")\n",
    "#table = soup.find_all(\"div\", class_=\"data-testid\")# {\"data-testid\":\"name-cell\"})\n",
    "table = soup.select(\"div.grid.grid-flex\")\n",
    "print(table)\n",
    "#rows = []\n",
    "#for tr in table.find_all(\"tr\")[1:]:\n",
    "#    tds = [td.text.strip() for td in tr.find_all(\"td\")]\n",
    "#    if len(tds) >= 2:\n",
    "#        rows.append(tds[:2])\n",
    "\n",
    "#df = pd.DataFrame(rows, columns=[\"bezirk\", \"rent_per_m2\"])\n",
    "#print(df)\n",
    "\n"
   ]
  },
  {
   "cell_type": "code",
   "execution_count": 3,
   "id": "ab25855f-d9fb-4aba-9b32-48e13e2ab19a",
   "metadata": {},
   "outputs": [
    {
     "data": {
      "text/html": [
       "<div>\n",
       "<style scoped>\n",
       "    .dataframe tbody tr th:only-of-type {\n",
       "        vertical-align: middle;\n",
       "    }\n",
       "\n",
       "    .dataframe tbody tr th {\n",
       "        vertical-align: top;\n",
       "    }\n",
       "\n",
       "    .dataframe thead th {\n",
       "        text-align: right;\n",
       "    }\n",
       "</style>\n",
       "<table border=\"1\" class=\"dataframe\">\n",
       "  <thead>\n",
       "    <tr style=\"text-align: right;\">\n",
       "      <th></th>\n",
       "      <th>bezirk</th>\n",
       "      <th>rent_per_m2</th>\n",
       "    </tr>\n",
       "  </thead>\n",
       "  <tbody>\n",
       "    <tr>\n",
       "      <th>0</th>\n",
       "      <td>2025</td>\n",
       "      <td>9,49 €/m²</td>\n",
       "    </tr>\n",
       "    <tr>\n",
       "      <th>1</th>\n",
       "      <td>+6,01 %</td>\n",
       "      <td></td>\n",
       "    </tr>\n",
       "    <tr>\n",
       "      <th>2</th>\n",
       "      <td>2024</td>\n",
       "      <td>8,95 €/m²</td>\n",
       "    </tr>\n",
       "    <tr>\n",
       "      <th>3</th>\n",
       "      <td>-2,04 %</td>\n",
       "      <td></td>\n",
       "    </tr>\n",
       "    <tr>\n",
       "      <th>4</th>\n",
       "      <td>2023</td>\n",
       "      <td>9,14 €/m²</td>\n",
       "    </tr>\n",
       "    <tr>\n",
       "      <th>5</th>\n",
       "      <td>-24,12 %</td>\n",
       "      <td></td>\n",
       "    </tr>\n",
       "    <tr>\n",
       "      <th>6</th>\n",
       "      <td>2022</td>\n",
       "      <td>12,05 €/m²</td>\n",
       "    </tr>\n",
       "    <tr>\n",
       "      <th>7</th>\n",
       "      <td>+47,21 %</td>\n",
       "      <td></td>\n",
       "    </tr>\n",
       "    <tr>\n",
       "      <th>8</th>\n",
       "      <td>2021</td>\n",
       "      <td>8,18 €/m²</td>\n",
       "    </tr>\n",
       "    <tr>\n",
       "      <th>9</th>\n",
       "      <td>-10,11 %</td>\n",
       "      <td></td>\n",
       "    </tr>\n",
       "  </tbody>\n",
       "</table>\n",
       "</div>"
      ],
      "text/plain": [
       "     bezirk rent_per_m2\n",
       "0      2025   9,49 €/m²\n",
       "1   +6,01 %            \n",
       "2      2024   8,95 €/m²\n",
       "3   -2,04 %            \n",
       "4      2023   9,14 €/m²\n",
       "5  -24,12 %            \n",
       "6      2022  12,05 €/m²\n",
       "7  +47,21 %            \n",
       "8      2021   8,18 €/m²\n",
       "9  -10,11 %            "
      ]
     },
     "execution_count": 3,
     "metadata": {},
     "output_type": "execute_result"
    }
   ],
   "source": [
    "df.head(10)\n"
   ]
  },
  {
   "cell_type": "code",
   "execution_count": null,
   "id": "c3e41e91-ba47-475b-9977-b7b7e6d0ed88",
   "metadata": {},
   "outputs": [],
   "source": []
  }
 ],
 "metadata": {
  "kernelspec": {
   "display_name": "venv",
   "language": "python",
   "name": "venv"
  },
  "language_info": {
   "codemirror_mode": {
    "name": "ipython",
    "version": 3
   },
   "file_extension": ".py",
   "mimetype": "text/x-python",
   "name": "python",
   "nbconvert_exporter": "python",
   "pygments_lexer": "ipython3",
   "version": "3.13.5"
  }
 },
 "nbformat": 4,
 "nbformat_minor": 5
}
