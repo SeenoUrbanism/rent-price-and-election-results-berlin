{
 "cells": [
  {
   "cell_type": "code",
   "execution_count": 1,
   "id": "da8d9cc8-b520-4cbd-b619-a48a8051cb2c",
   "metadata": {},
   "outputs": [],
   "source": [
    "import pandas as pd\n",
    "import numpy as np\n",
    "import matplotlib.pyplot as plt\n",
    "import seaborn as sns\n",
    "import yaml\n",
    "import pypdf\n"
   ]
  },
  {
   "cell_type": "code",
   "execution_count": 2,
   "id": "efcd94ad-b5a2-4999-9712-59399ff16d3b",
   "metadata": {},
   "outputs": [
    {
     "name": "stdout",
     "output_type": "stream",
     "text": [
      "C:\\Users\\Sina A.Y\\documents\\ironhack\\rent-price-and-election-results-berlin\\.venv\\Scripts\\python.exe\n"
     ]
    }
   ],
   "source": [
    "import sys\n",
    "print(sys.executable)\n"
   ]
  },
  {
   "cell_type": "code",
   "execution_count": 3,
   "id": "2ecbd923-5679-4b13-959e-7b9dc32377ff",
   "metadata": {},
   "outputs": [],
   "source": [
    "# try:\n",
    "#     with open(\"../config.yaml\", \"r\") as file:\n",
    "#         config = yaml.safe_load(file)\n",
    "# except:\n",
    "#     print(\"Yaml configuration file not found!\")\n",
    "\n",
    "# dfr_2017 = pd.read_excel(config['input_data']['rent_2017'])\n",
    "# dfr_2021 = pd.read_excel(config['input_data']['rent_2021'])\n",
    "# dfr_2025 = pd.read_excel(config['input_data']['rent_2025'])\n"
   ]
  },
  {
   "cell_type": "code",
   "execution_count": 4,
   "id": "f3e5927d-7d98-40ca-b7e1-d65e782146bd",
   "metadata": {},
   "outputs": [],
   "source": [
    "# #we add the year as a column \n",
    "# dfr_2017['year'] = 2017\n",
    "# dfr_2021['year'] = 2021\n",
    "# dfr_2025['year'] = 2025"
   ]
  },
  {
   "cell_type": "code",
   "execution_count": 5,
   "id": "5ed03f06-fd1f-4c93-98b1-2c9398c1472b",
   "metadata": {},
   "outputs": [],
   "source": [
    "# display(dfr_2017.head(5))"
   ]
  },
  {
   "cell_type": "code",
   "execution_count": 6,
   "id": "385809a9-c797-4339-8afa-ca1f1ab30be4",
   "metadata": {},
   "outputs": [],
   "source": [
    "# import tabula\n",
    "\n",
    "# # Read tables from all pages\n",
    "# tables = tabula.read_pdf(\"../data/raw/others/CBRE_Berlin_Hyp_Wohnmarktreport_2017.pdf\", pages=\"8\", multiple_tables=True)\n",
    "\n",
    "# df = tables[0]\n",
    "# print(df.head())"
   ]
  },
  {
   "cell_type": "code",
   "execution_count": 7,
   "id": "74cfe557-5ec8-4268-a595-e0f34af6e8ec",
   "metadata": {},
   "outputs": [
    {
     "name": "stdout",
     "output_type": "stream",
     "text": [
      "                 0                   1             2              3   \\\n",
      "0   Wohnmarktreport                   |          2017              |   \n",
      "1              Kaum       Hochpreisiges            am      Stadtrand   \n",
      "2               Das              soeben  dargestellte         Schema   \n",
      "3            stärkt                  im      obersten  Marktsegment.   \n",
      "4          teuerste             Zehntel           der      Wohnungen   \n",
      "5              drei  Innenstadtbezirken            im         Mittel   \n",
      "6               als               15,00          Euro      verlangt;   \n",
      "7             Mitte                 mit         17,46          Euro.   \n",
      "8           Spandau              werden       dagegen            die   \n",
      "9               nur                rund         10,00           Euro   \n",
      "10             ment                  in        diesen       Bezirken   \n",
      "11              ger                 als           der      jeweilige   \n",
      "12               in                 den          drei          zuvor   \n",
      "13             Miet       interessenten           mit       größerem   \n",
      "14              ren          Ansprüchen        fragen            vor   \n",
      "\n",
      "              4                    5               6        7       8     9   \\\n",
      "0         Berlin                   07            None     None    None  None   \n",
      "1           None                 None            None     None    None  None   \n",
      "2          zeigt                 sich            ver-     None    None  None   \n",
      "3            Für                  das         jeweils     None    None  None   \n",
      "4         werden                   in             den     None    None  None   \n",
      "5        jeweils                 mehr            None     None    None  None   \n",
      "6           ganz                 vorn           liegt      der  Bezirk  None   \n",
      "7             In  Marzahn­Hellersdorf             und     None    None  None   \n",
      "8   Topwohnungen                  für            None     None    None  None   \n",
      "9     angeboten.                  Das     Spitzenseg-     None    None  None   \n",
      "10         liegt                damit       preislich  niedri-    None  None   \n",
      "11    Mittelwert                  der  Angebotsmieten     None    None  None   \n",
      "12     genannten  Innenstadtgebieten.            None     None    None  None   \n",
      "13        Budget                  und           höhe-     None    None  None   \n",
      "14         allem             zentrale        Adressen     None    None  None   \n",
      "\n",
      "      10    11    12    13  \n",
      "0   None  None  None  None  \n",
      "1   None  None  None  None  \n",
      "2   None  None  None  None  \n",
      "3   None  None  None  None  \n",
      "4   None  None  None  None  \n",
      "5   None  None  None  None  \n",
      "6   None  None  None  None  \n",
      "7   None  None  None  None  \n",
      "8   None  None  None  None  \n",
      "9   None  None  None  None  \n",
      "10  None  None  None  None  \n",
      "11  None  None  None  None  \n",
      "12  None  None  None  None  \n",
      "13  None  None  None  None  \n",
      "14  None  None  None  None  \n"
     ]
    }
   ],
   "source": [
    "from pypdf import PdfReader\n",
    "\n",
    "\n",
    "reader = PdfReader(\"../data/raw/others/CBRE_Berlin_Hyp_Wohnmarktreport_2017.pdf\")\n",
    "page = reader.pages[8]\n",
    "text = page.extract_text()\n",
    "\n",
    "# Example manual parsing — if columns are separated by tabs or consistent spaces\n",
    "rows = [line.split() for line in text.split(\"\\n\") if line.strip()]\n",
    "df = pd.DataFrame(rows)\n",
    "print(df.head(15))"
   ]
  },
  {
   "cell_type": "code",
   "execution_count": 8,
   "id": "dc575a12-ebc0-4a8b-84d3-0c88e6346eec",
   "metadata": {},
   "outputs": [
    {
     "name": "stdout",
     "output_type": "stream",
     "text": [
      "Encrypted: True\n",
      "2k 5k 8k 11k\n",
      "11\n",
      "Wohnmarktreport Berlin 2025\n",
      "namik in Berlin bemerkenswert. Noch im Jahr \n",
      "2019 stand die Bundeshauptstadt auf Platz 7 (mit \n",
      "10,44 Euro pro Quadratmeter im Median). 2024 \n",
      "belief sich die durchschnittliche Angebotsmiete \n",
      "auf 15,79 Euro pro Quadratmeter. Dies ist nach \n",
      "München (21,69 Euro) und Frankfurt am Main \n",
      "(16,24 Euro) der dritthöchste Wert unter den Top-\n",
      "7-Städten. Um eine relative Dynamik, die auf -\n",
      "grund eines niedrigen Ausgangswerts besonders \n",
      "groß erscheint, handelt es sic\n"
     ]
    }
   ],
   "source": [
    "from pypdf import PdfReader\n",
    "\n",
    "reader = PdfReader(\"../data/raw/others/CBRE_Berlin_Hyp_Wohnmarktreport_2025.pdf\")\n",
    "\n",
    "# Check if it's encrypted\n",
    "print(\"Encrypted:\", reader.is_encrypted)\n",
    "\n",
    "# If it is, try decrypting (some PDFs use empty password)\n",
    "if reader.is_encrypted:\n",
    "    reader.decrypt(\"\")\n",
    "\n",
    "page = reader.pages[10]\n",
    "text = page.extract_text()\n",
    "print(text[:500])\n"
   ]
  },
  {
   "cell_type": "code",
   "execution_count": 10,
   "id": "2662f044-ca9f-4b78-bbd7-7aab2b072a1d",
   "metadata": {},
   "outputs": [
    {
     "name": "stdout",
     "output_type": "stream",
     "text": [
      "5.5.0.20241111\n",
      "\n"
     ]
    }
   ],
   "source": [
    "import pytesseract\n",
    "from PIL import Image\n",
    "\n",
    "pytesseract.pytesseract.tesseract_cmd = r\"D:\\Program Files\\Tesseract-OCR\\tesseract.exe\"\n",
    "\n",
    "print(pytesseract.get_tesseract_version())\n",
    "\n",
    "img = Image.open(\"../data/raw/others/mietspiegel 2025.jpg\")\n",
    "text = pytesseract.image_to_string(img)\n",
    "print(text)\n"
   ]
  },
  {
   "cell_type": "code",
   "execution_count": 11,
   "id": "20b84400-7879-4a44-a361-1d4ac76e70f9",
   "metadata": {},
   "outputs": [
    {
     "name": "stdout",
     "output_type": "stream",
     "text": [
      "Empty DataFrame\n",
      "Columns: []\n",
      "Index: [0]\n"
     ]
    }
   ],
   "source": [
    "lines = [line.split() for line in text.strip().split(\"\\n\")]\n",
    "df = pd.DataFrame(lines)\n",
    "print(df)"
   ]
  },
  {
   "cell_type": "code",
   "execution_count": 12,
   "id": "a1a95faf-1a72-406b-b325-5073ad6e7e5c",
   "metadata": {},
   "outputs": [
    {
     "name": "stdout",
     "output_type": "stream",
     "text": [
      "Aktuelle Mietentwicklung: Mietpreisspanne Neuvermietungsangebote 2024\n",
      "\n",
      "Saieik Anahi — hres vaagnent® Water aegnent Ober eget Alegent\n",
      "ne Maurin Cann ania dtu ann Ants Manin Aaa\n",
      "\n",
      "= as ier mete\n",
      "\n",
      "=o west\n",
      "\n",
      "> ee a me,\n",
      "| ce ee\n",
      "\n",
      "wean os ce\n",
      "fonoe aor EIB sro tse sas 2 en aa\n",
      "» yaecnioe egies ass\n",
      "\n",
      "= a ene 6s ea an ase\n",
      "soem 1950 Meese\n",
      "ee\n",
      "coonKipois 3368 MN ezcteon tas san cana ne\n",
      "C—O 7\n",
      "\n",
      "\n"
     ]
    }
   ],
   "source": [
    "import cv2\n",
    "import pytesseract\n",
    "from PIL import Image\n",
    "\n",
    "\n",
    "# Load the image\n",
    "img = cv2.imread(\"../data/raw/others/mietspiegel 2025.jpg\")\n",
    "\n",
    "# Optional: convert to grayscale (helps OCR)\n",
    "gray = cv2.cvtColor(img, cv2.COLOR_BGR2GRAY)\n",
    "\n",
    "# Extract text\n",
    "text = pytesseract.image_to_string(gray, lang=\"eng\")\n",
    "\n",
    "print(text)  # See what OCR extracted\n"
   ]
  },
  {
   "cell_type": "code",
   "execution_count": null,
   "id": "777b69bd-c06d-412e-90dc-cc005baa6f21",
   "metadata": {},
   "outputs": [],
   "source": []
  }
 ],
 "metadata": {
  "kernelspec": {
   "display_name": "venv",
   "language": "python",
   "name": "venv"
  },
  "language_info": {
   "codemirror_mode": {
    "name": "ipython",
    "version": 3
   },
   "file_extension": ".py",
   "mimetype": "text/x-python",
   "name": "python",
   "nbconvert_exporter": "python",
   "pygments_lexer": "ipython3",
   "version": "3.13.5"
  }
 },
 "nbformat": 4,
 "nbformat_minor": 5
}
